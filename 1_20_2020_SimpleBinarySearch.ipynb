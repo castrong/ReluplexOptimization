{
 "cells": [
  {
   "cell_type": "code",
   "execution_count": 12,
   "metadata": {},
   "outputs": [
    {
     "name": "stdout",
     "output_type": "stream",
     "text": [
      "\u001b[32m\u001b[1m Resolving\u001b[22m\u001b[39m package versions...\n",
      "\u001b[32m\u001b[1m  Updating\u001b[22m\u001b[39m `~/.julia/environments/v1.2/Project.toml`\n",
      "\u001b[90m [no changes]\u001b[39m\n",
      "\u001b[32m\u001b[1m  Updating\u001b[22m\u001b[39m `~/.julia/environments/v1.2/Manifest.toml`\n",
      "\u001b[90m [no changes]\u001b[39m\n",
      "\u001b[32m\u001b[1m Resolving\u001b[22m\u001b[39m package versions...\n",
      "\u001b[32m\u001b[1m  Updating\u001b[22m\u001b[39m `~/.julia/environments/v1.2/Project.toml`\n",
      "\u001b[90m [no changes]\u001b[39m\n",
      "\u001b[32m\u001b[1m  Updating\u001b[22m\u001b[39m `~/.julia/environments/v1.2/Manifest.toml`\n",
      "\u001b[90m [no changes]\u001b[39m\n",
      "\u001b[32m\u001b[1m Resolving\u001b[22m\u001b[39m package versions...\n",
      "\u001b[32m\u001b[1m  Updating\u001b[22m\u001b[39m `~/.julia/environments/v1.2/Project.toml`\n",
      "\u001b[90m [no changes]\u001b[39m\n",
      "\u001b[32m\u001b[1m  Updating\u001b[22m\u001b[39m `~/.julia/environments/v1.2/Manifest.toml`\n",
      "\u001b[90m [no changes]\u001b[39m\n",
      "\u001b[32m\u001b[1m Resolving\u001b[22m\u001b[39m package versions...\n",
      "\u001b[32m\u001b[1m  Updating\u001b[22m\u001b[39m `~/.julia/environments/v1.2/Project.toml`\n",
      "\u001b[90m [no changes]\u001b[39m\n",
      "\u001b[32m\u001b[1m  Updating\u001b[22m\u001b[39m `~/.julia/environments/v1.2/Manifest.toml`\n",
      "\u001b[90m [no changes]\u001b[39m\n",
      "\u001b[32m\u001b[1m Resolving\u001b[22m\u001b[39m package versions...\n",
      "\u001b[32m\u001b[1m  Updating\u001b[22m\u001b[39m `~/.julia/environments/v1.2/Project.toml`\n",
      "\u001b[90m [no changes]\u001b[39m\n",
      "\u001b[32m\u001b[1m  Updating\u001b[22m\u001b[39m `~/.julia/environments/v1.2/Manifest.toml`\n",
      "\u001b[90m [no changes]\u001b[39m\n",
      "\u001b[32m\u001b[1m Resolving\u001b[22m\u001b[39m package versions...\n",
      "\u001b[32m\u001b[1m  Updating\u001b[22m\u001b[39m `~/.julia/environments/v1.2/Project.toml`\n",
      "\u001b[90m [no changes]\u001b[39m\n",
      "\u001b[32m\u001b[1m  Updating\u001b[22m\u001b[39m `~/.julia/environments/v1.2/Manifest.toml`\n",
      "\u001b[90m [no changes]\u001b[39m\n",
      "\u001b[32m\u001b[1m Resolving\u001b[22m\u001b[39m package versions...\n",
      "\u001b[32m\u001b[1m  Updating\u001b[22m\u001b[39m `~/.julia/environments/v1.2/Project.toml`\n",
      "\u001b[90m [no changes]\u001b[39m\n",
      "\u001b[32m\u001b[1m  Updating\u001b[22m\u001b[39m `~/.julia/environments/v1.2/Manifest.toml`\n",
      "\u001b[90m [no changes]\u001b[39m\n",
      "\u001b[32m\u001b[1m Resolving\u001b[22m\u001b[39m package versions...\n",
      "\u001b[32m\u001b[1m  Updating\u001b[22m\u001b[39m `~/.julia/environments/v1.2/Project.toml`\n",
      "\u001b[90m [no changes]\u001b[39m\n",
      "\u001b[32m\u001b[1m  Updating\u001b[22m\u001b[39m `~/.julia/environments/v1.2/Manifest.toml`\n",
      "\u001b[90m [no changes]\u001b[39m\n",
      "\u001b[32m\u001b[1m Resolving\u001b[22m\u001b[39m package versions...\n",
      "\u001b[32m\u001b[1m  Updating\u001b[22m\u001b[39m `~/.julia/environments/v1.2/Project.toml`\n",
      "\u001b[90m [no changes]\u001b[39m\n",
      "\u001b[32m\u001b[1m  Updating\u001b[22m\u001b[39m `~/.julia/environments/v1.2/Manifest.toml`\n",
      "\u001b[90m [no changes]\u001b[39m\n",
      "\u001b[32m\u001b[1m Resolving\u001b[22m\u001b[39m package versions...\n",
      "\u001b[32m\u001b[1m  Updating\u001b[22m\u001b[39m `~/.julia/environments/v1.2/Project.toml`\n",
      "\u001b[90m [no changes]\u001b[39m\n",
      "\u001b[32m\u001b[1m  Updating\u001b[22m\u001b[39m `~/.julia/environments/v1.2/Manifest.toml`\n",
      "\u001b[90m [no changes]\u001b[39m\n",
      "\u001b[32m\u001b[1m Resolving\u001b[22m\u001b[39m package versions...\n",
      "\u001b[32m\u001b[1m  Updating\u001b[22m\u001b[39m `~/.julia/environments/v1.2/Project.toml`\n",
      "\u001b[90m [no changes]\u001b[39m\n",
      "\u001b[32m\u001b[1m  Updating\u001b[22m\u001b[39m `~/.julia/environments/v1.2/Manifest.toml`\n",
      "\u001b[90m [no changes]\u001b[39m\n",
      "\u001b[32m\u001b[1m Resolving\u001b[22m\u001b[39m package versions...\n",
      "\u001b[32m\u001b[1m  Updating\u001b[22m\u001b[39m `~/.julia/environments/v1.2/Project.toml`\n",
      "\u001b[90m [no changes]\u001b[39m\n",
      "\u001b[32m\u001b[1m  Updating\u001b[22m\u001b[39m `~/.julia/environments/v1.2/Manifest.toml`\n",
      "\u001b[90m [no changes]\u001b[39m\n"
     ]
    },
    {
     "name": "stderr",
     "output_type": "stream",
     "text": [
      "WARNING: replacing module NeuralVerification.\n"
     ]
    },
    {
     "data": {
      "text/plain": [
       "Main.NeuralVerification"
      ]
     },
     "execution_count": 12,
     "metadata": {},
     "output_type": "execute_result"
    }
   ],
   "source": [
    "import Pkg; Pkg.add(\"JuMP\"); Pkg.add(\"GLPK\"); Pkg.add(\"SCS\"); Pkg.add(\"PicoSAT\")\n",
    "Pkg.add(\"LazySets\");Pkg.add(\"Polyhedra\"); Pkg.add(\"CDDLib\"); Pkg.add(\"Parameters\");\n",
    "Pkg.add(\"Interpolations\"); Pkg.add(\"Requires\");\n",
    "\n",
    "Pkg.add(\"TimerOutputs\"); using TimerOutputs\n",
    "Pkg.add(\"BenchmarkTools\"); using BenchmarkTools\n",
    "\n",
    "using LazySets\n",
    "using Plots\n",
    "using LinearAlgebra\n",
    "\n",
    "include(\"NeuralVerification.jl/src/NeuralVerification.jl\")\n"
   ]
  },
  {
   "cell_type": "code",
   "execution_count": 13,
   "metadata": {},
   "outputs": [
    {
     "data": {
      "text/plain": [
       "RangeSearch (generic function with 4 methods)"
      ]
     },
     "execution_count": 13,
     "metadata": {},
     "output_type": "execute_result"
    }
   ],
   "source": [
    "# assumes start_guess is contained in the output set \n",
    "\n",
    "\n",
    "# This will ignore the output_set sent in with the problem\n",
    "#function RangeSearch(solver, start_guess, nnet, input_set, scaling_factor, desired_error=1e-10)\n",
    "function RangeSearch(solver::NeuralVerification.Reluplex, problem::NeuralVerification.Problem, start_guess::Float64, max_error::Float64=0.1)\n",
    "    ### Start by getting an upper bound\n",
    "    step_num = 1\n",
    "    strip_start = start_guess # consider other exploration strategies, maybe center + constant * 2^power\n",
    "    strip_start_vals = [start_guess, strip_start]\n",
    "\n",
    "    # Initial result\n",
    "    strip_end = strip_start + 1e-5\n",
    "    output_set = NeuralVerification.complement(NeuralVerification.Hyperrectangle(low=[strip_start], high=[strip_end]))\n",
    "    problem = NeuralVerification.Problem(problem.network, problem.input, output_set)\n",
    "    cur_result = NeuralVerification.solve(solver, problem)\n",
    "\n",
    "    while cur_result.status == :violated\n",
    "        println(\"Bounds (searching for upper): \", (strip_start, -1))\n",
    "        # Setup your problem, and run the verifier\n",
    "        strip_start = strip_start * 2.0\n",
    "        strip_end = strip_start + 1e-5\n",
    "        output_set = NeuralVerification.complement(NeuralVerification.Hyperrectangle(low=[strip_start], high=[strip_end]))\n",
    "        problem = NeuralVerification.Problem(problem.network, problem.input, output_set)\n",
    "        cur_result = NeuralVerification.solve(solver, problem)\n",
    "        \n",
    "        step_num = step_num + 1\n",
    "        push!(strip_start_vals, strip_start)\n",
    "    end\n",
    "    \n",
    "    lowest_hold = strip_start_vals[end]\n",
    "    highest_violate = strip_start_vals[end-1]\n",
    "    println(\"Bounds: \", (highest_violate, lowest_hold))\n",
    "\n",
    "    ### Now, create a sequence that will converge to the maximum within the desired error by continually splitting your upper and lower bound\n",
    "    while (lowest_hold - highest_violate > max_error)\n",
    "        strip_start = (lowest_hold + highest_violate) / 2\n",
    "        strip_end = strip_start + 1e-5\n",
    "        println(\"Strip start, end: \", (strip_start, strip_end))\n",
    "        output_set = NeuralVerification.complement(NeuralVerification.Hyperrectangle(low=[strip_start], high=[strip_end]))\n",
    "        #output_set = LinearConstraint([1.0], strip_start)\n",
    "        problem = NeuralVerification.Problem(nnet, input_set, output_set)\n",
    "        cur_result = NeuralVerification.solve(solver, problem)\n",
    "        if cur_result.status == :violated\n",
    "            highest_violate = strip_start\n",
    "        else\n",
    "            lowest_hold = strip_start\n",
    "        end\n",
    "        println(\"Bounds: \", (highest_violate, lowest_hold))\n",
    "    end\n",
    "    return (highest_violate, lowest_hold) \n",
    "end"
   ]
  },
  {
   "cell_type": "code",
   "execution_count": 14,
   "metadata": {},
   "outputs": [
    {
     "data": {
      "text/plain": [
       "create_random_network (generic function with 1 method)"
      ]
     },
     "execution_count": 14,
     "metadata": {},
     "output_type": "execute_result"
    }
   ],
   "source": [
    "function create_random_network(layer_size_list)\n",
    "    weight_matrix_list = []\n",
    "    layers = []\n",
    "    for i in 1:length(layer_size_list)-1\n",
    "        weights = (rand( layer_size_list[i+1], layer_size_list[i]) .- 0.5) * 10\n",
    "        bias = rand(layer_size_list[i+1])\n",
    "        println(\"here\")\n",
    "        push!(layers, NeuralVerification.Layer(weights, bias, NeuralVerification.ReLU()))\n",
    "        println(\"pushed\")\n",
    "    end\n",
    "    return NeuralVerification.Network(layers)\n",
    "end"
   ]
  },
  {
   "cell_type": "code",
   "execution_count": 23,
   "metadata": {},
   "outputs": [
    {
     "name": "stdout",
     "output_type": "stream",
     "text": [
      "[10.725820535605887]\n"
     ]
    },
    {
     "data": {
      "image/svg+xml": [
       "<?xml version=\"1.0\" encoding=\"utf-8\"?>\n",
       "<svg xmlns=\"http://www.w3.org/2000/svg\" xmlns:xlink=\"http://www.w3.org/1999/xlink\" width=\"600\" height=\"400\" viewBox=\"0 0 2400 1600\">\n",
       "<defs>\n",
       "  <clipPath id=\"clip5300\">\n",
       "    <rect x=\"0\" y=\"0\" width=\"2400\" height=\"1600\"/>\n",
       "  </clipPath>\n",
       "</defs>\n",
       "<path clip-path=\"url(#clip5300)\" d=\"\n",
       "M0 1600 L2400 1600 L2400 0 L0 0  Z\n",
       "  \" fill=\"#ffffff\" fill-rule=\"evenodd\" fill-opacity=\"1\"/>\n",
       "<defs>\n",
       "  <clipPath id=\"clip5301\">\n",
       "    <rect x=\"480\" y=\"0\" width=\"1681\" height=\"1600\"/>\n",
       "  </clipPath>\n",
       "</defs>\n",
       "<path clip-path=\"url(#clip5300)\" d=\"\n",
       "M140.517 1487.47 L2352.76 1487.47 L2352.76 47.2441 L140.517 47.2441  Z\n",
       "  \" fill=\"#ffffff\" fill-rule=\"evenodd\" fill-opacity=\"1\"/>\n",
       "<defs>\n",
       "  <clipPath id=\"clip5302\">\n",
       "    <rect x=\"140\" y=\"47\" width=\"2213\" height=\"1441\"/>\n",
       "  </clipPath>\n",
       "</defs>\n",
       "<polyline clip-path=\"url(#clip5302)\" style=\"stroke:#000000; stroke-width:1.6; stroke-opacity:0.1; fill:none\" points=\"\n",
       "  203.127,1487.47 203.127,47.2441 \n",
       "  \"/>\n",
       "<polyline clip-path=\"url(#clip5302)\" style=\"stroke:#000000; stroke-width:1.6; stroke-opacity:0.1; fill:none\" points=\"\n",
       "  724.882,1487.47 724.882,47.2441 \n",
       "  \"/>\n",
       "<polyline clip-path=\"url(#clip5302)\" style=\"stroke:#000000; stroke-width:1.6; stroke-opacity:0.1; fill:none\" points=\"\n",
       "  1246.64,1487.47 1246.64,47.2441 \n",
       "  \"/>\n",
       "<polyline clip-path=\"url(#clip5302)\" style=\"stroke:#000000; stroke-width:1.6; stroke-opacity:0.1; fill:none\" points=\"\n",
       "  1768.39,1487.47 1768.39,47.2441 \n",
       "  \"/>\n",
       "<polyline clip-path=\"url(#clip5302)\" style=\"stroke:#000000; stroke-width:1.6; stroke-opacity:0.1; fill:none\" points=\"\n",
       "  2290.15,1487.47 2290.15,47.2441 \n",
       "  \"/>\n",
       "<polyline clip-path=\"url(#clip5302)\" style=\"stroke:#000000; stroke-width:1.6; stroke-opacity:0.1; fill:none\" points=\"\n",
       "  140.517,1446.51 2352.76,1446.51 \n",
       "  \"/>\n",
       "<polyline clip-path=\"url(#clip5302)\" style=\"stroke:#000000; stroke-width:1.6; stroke-opacity:0.1; fill:none\" points=\"\n",
       "  140.517,1135.13 2352.76,1135.13 \n",
       "  \"/>\n",
       "<polyline clip-path=\"url(#clip5302)\" style=\"stroke:#000000; stroke-width:1.6; stroke-opacity:0.1; fill:none\" points=\"\n",
       "  140.517,823.757 2352.76,823.757 \n",
       "  \"/>\n",
       "<polyline clip-path=\"url(#clip5302)\" style=\"stroke:#000000; stroke-width:1.6; stroke-opacity:0.1; fill:none\" points=\"\n",
       "  140.517,512.382 2352.76,512.382 \n",
       "  \"/>\n",
       "<polyline clip-path=\"url(#clip5302)\" style=\"stroke:#000000; stroke-width:1.6; stroke-opacity:0.1; fill:none\" points=\"\n",
       "  140.517,201.007 2352.76,201.007 \n",
       "  \"/>\n",
       "<polyline clip-path=\"url(#clip5300)\" style=\"stroke:#000000; stroke-width:3.2; stroke-opacity:1; fill:none\" points=\"\n",
       "  140.517,1487.47 2352.76,1487.47 \n",
       "  \"/>\n",
       "<polyline clip-path=\"url(#clip5300)\" style=\"stroke:#000000; stroke-width:3.2; stroke-opacity:1; fill:none\" points=\"\n",
       "  140.517,1487.47 140.517,47.2441 \n",
       "  \"/>\n",
       "<polyline clip-path=\"url(#clip5300)\" style=\"stroke:#000000; stroke-width:3.2; stroke-opacity:1; fill:none\" points=\"\n",
       "  203.127,1487.47 203.127,1465.87 \n",
       "  \"/>\n",
       "<polyline clip-path=\"url(#clip5300)\" style=\"stroke:#000000; stroke-width:3.2; stroke-opacity:1; fill:none\" points=\"\n",
       "  724.882,1487.47 724.882,1465.87 \n",
       "  \"/>\n",
       "<polyline clip-path=\"url(#clip5300)\" style=\"stroke:#000000; stroke-width:3.2; stroke-opacity:1; fill:none\" points=\"\n",
       "  1246.64,1487.47 1246.64,1465.87 \n",
       "  \"/>\n",
       "<polyline clip-path=\"url(#clip5300)\" style=\"stroke:#000000; stroke-width:3.2; stroke-opacity:1; fill:none\" points=\"\n",
       "  1768.39,1487.47 1768.39,1465.87 \n",
       "  \"/>\n",
       "<polyline clip-path=\"url(#clip5300)\" style=\"stroke:#000000; stroke-width:3.2; stroke-opacity:1; fill:none\" points=\"\n",
       "  2290.15,1487.47 2290.15,1465.87 \n",
       "  \"/>\n",
       "<polyline clip-path=\"url(#clip5300)\" style=\"stroke:#000000; stroke-width:3.2; stroke-opacity:1; fill:none\" points=\"\n",
       "  140.517,1446.51 173.7,1446.51 \n",
       "  \"/>\n",
       "<polyline clip-path=\"url(#clip5300)\" style=\"stroke:#000000; stroke-width:3.2; stroke-opacity:1; fill:none\" points=\"\n",
       "  140.517,1135.13 173.7,1135.13 \n",
       "  \"/>\n",
       "<polyline clip-path=\"url(#clip5300)\" style=\"stroke:#000000; stroke-width:3.2; stroke-opacity:1; fill:none\" points=\"\n",
       "  140.517,823.757 173.7,823.757 \n",
       "  \"/>\n",
       "<polyline clip-path=\"url(#clip5300)\" style=\"stroke:#000000; stroke-width:3.2; stroke-opacity:1; fill:none\" points=\"\n",
       "  140.517,512.382 173.7,512.382 \n",
       "  \"/>\n",
       "<polyline clip-path=\"url(#clip5300)\" style=\"stroke:#000000; stroke-width:3.2; stroke-opacity:1; fill:none\" points=\"\n",
       "  140.517,201.007 173.7,201.007 \n",
       "  \"/>\n",
       "<g clip-path=\"url(#clip5300)\">\n",
       "<text style=\"fill:#000000; fill-opacity:1; font-family:Arial,Helvetica Neue,Helvetica,sans-serif; font-size:48px; text-anchor:middle;\" transform=\"rotate(0, 203.127, 1541.47)\" x=\"203.127\" y=\"1541.47\">-1.0</text>\n",
       "</g>\n",
       "<g clip-path=\"url(#clip5300)\">\n",
       "<text style=\"fill:#000000; fill-opacity:1; font-family:Arial,Helvetica Neue,Helvetica,sans-serif; font-size:48px; text-anchor:middle;\" transform=\"rotate(0, 724.882, 1541.47)\" x=\"724.882\" y=\"1541.47\">-0.5</text>\n",
       "</g>\n",
       "<g clip-path=\"url(#clip5300)\">\n",
       "<text style=\"fill:#000000; fill-opacity:1; font-family:Arial,Helvetica Neue,Helvetica,sans-serif; font-size:48px; text-anchor:middle;\" transform=\"rotate(0, 1246.64, 1541.47)\" x=\"1246.64\" y=\"1541.47\">0.0</text>\n",
       "</g>\n",
       "<g clip-path=\"url(#clip5300)\">\n",
       "<text style=\"fill:#000000; fill-opacity:1; font-family:Arial,Helvetica Neue,Helvetica,sans-serif; font-size:48px; text-anchor:middle;\" transform=\"rotate(0, 1768.39, 1541.47)\" x=\"1768.39\" y=\"1541.47\">0.5</text>\n",
       "</g>\n",
       "<g clip-path=\"url(#clip5300)\">\n",
       "<text style=\"fill:#000000; fill-opacity:1; font-family:Arial,Helvetica Neue,Helvetica,sans-serif; font-size:48px; text-anchor:middle;\" transform=\"rotate(0, 2290.15, 1541.47)\" x=\"2290.15\" y=\"1541.47\">1.0</text>\n",
       "</g>\n",
       "<g clip-path=\"url(#clip5300)\">\n",
       "<text style=\"fill:#000000; fill-opacity:1; font-family:Arial,Helvetica Neue,Helvetica,sans-serif; font-size:48px; text-anchor:end;\" transform=\"rotate(0, 116.517, 1464.01)\" x=\"116.517\" y=\"1464.01\">2</text>\n",
       "</g>\n",
       "<g clip-path=\"url(#clip5300)\">\n",
       "<text style=\"fill:#000000; fill-opacity:1; font-family:Arial,Helvetica Neue,Helvetica,sans-serif; font-size:48px; text-anchor:end;\" transform=\"rotate(0, 116.517, 1152.63)\" x=\"116.517\" y=\"1152.63\">4</text>\n",
       "</g>\n",
       "<g clip-path=\"url(#clip5300)\">\n",
       "<text style=\"fill:#000000; fill-opacity:1; font-family:Arial,Helvetica Neue,Helvetica,sans-serif; font-size:48px; text-anchor:end;\" transform=\"rotate(0, 116.517, 841.257)\" x=\"116.517\" y=\"841.257\">6</text>\n",
       "</g>\n",
       "<g clip-path=\"url(#clip5300)\">\n",
       "<text style=\"fill:#000000; fill-opacity:1; font-family:Arial,Helvetica Neue,Helvetica,sans-serif; font-size:48px; text-anchor:end;\" transform=\"rotate(0, 116.517, 529.882)\" x=\"116.517\" y=\"529.882\">8</text>\n",
       "</g>\n",
       "<g clip-path=\"url(#clip5300)\">\n",
       "<text style=\"fill:#000000; fill-opacity:1; font-family:Arial,Helvetica Neue,Helvetica,sans-serif; font-size:48px; text-anchor:end;\" transform=\"rotate(0, 116.517, 218.507)\" x=\"116.517\" y=\"218.507\">10</text>\n",
       "</g>\n",
       "<polyline clip-path=\"url(#clip5302)\" style=\"stroke:#009af9; stroke-width:3.2; stroke-opacity:1; fill:none\" points=\"\n",
       "  203.127,1235.89 213.562,1238.11 223.998,1240.33 234.433,1242.55 244.868,1244.77 255.303,1246.98 265.738,1249.2 276.173,1251.42 286.608,1253.64 297.043,1255.85 \n",
       "  307.478,1258.07 317.913,1260.29 328.348,1262.51 338.784,1264.73 349.219,1266.94 359.654,1269.16 370.089,1271.38 380.524,1273.6 390.959,1275.82 401.394,1278.03 \n",
       "  411.829,1280.25 422.264,1282.47 432.699,1284.69 443.134,1286.91 453.57,1289.12 464.005,1291.34 474.44,1293.56 484.875,1295.78 495.31,1298 505.745,1300.21 \n",
       "  516.18,1302.43 526.615,1304.65 537.05,1306.87 547.485,1309.08 557.92,1311.3 568.355,1313.52 578.791,1315.74 589.226,1317.96 599.661,1320.17 610.096,1322.39 \n",
       "  620.531,1324.61 630.966,1326.83 641.401,1329.05 651.836,1331.26 662.271,1333.48 672.706,1335.7 683.141,1337.92 693.577,1340.14 704.012,1342.35 714.447,1344.57 \n",
       "  724.882,1346.79 735.317,1349.01 745.752,1351.23 756.187,1353.44 766.622,1355.66 777.057,1357.88 787.492,1360.1 797.927,1362.32 808.363,1364.53 818.798,1366.75 \n",
       "  829.233,1368.97 839.668,1371.19 850.103,1373.4 860.538,1375.62 870.973,1377.84 881.408,1380.06 891.843,1382.28 902.278,1384.49 912.713,1386.71 923.149,1388.93 \n",
       "  933.584,1391.15 944.019,1393.37 954.454,1395.58 964.889,1397.8 975.324,1400.02 985.759,1402.24 996.194,1404.46 1006.63,1406.67 1017.06,1408.89 1027.5,1411.11 \n",
       "  1037.93,1413.33 1048.37,1415.55 1058.8,1417.76 1069.24,1419.98 1079.67,1422.2 1090.11,1424.42 1100.55,1426.64 1110.98,1428.85 1121.42,1431.07 1131.85,1433.29 \n",
       "  1142.29,1435.51 1152.72,1437.72 1163.16,1439.94 1173.59,1442.16 1184.03,1444.38 1194.46,1446.6 1204.9,1446.71 1215.33,1434.38 1225.77,1422.05 1236.2,1409.72 \n",
       "  1246.64,1397.39 1257.07,1385.06 1267.51,1372.73 1277.94,1360.4 1288.38,1348.07 1298.81,1335.74 1309.25,1323.4 1319.68,1311.07 1330.12,1298.74 1340.55,1286.41 \n",
       "  1350.99,1274.08 1361.42,1261.75 1371.86,1249.42 1382.29,1237.09 1392.73,1224.76 1403.16,1212.43 1413.6,1200.1 1424.03,1187.77 1434.47,1175.43 1444.9,1163.1 \n",
       "  1455.34,1150.77 1465.77,1138.44 1476.21,1126.11 1486.64,1113.78 1497.08,1101.45 1507.51,1089.12 1517.95,1076.79 1528.38,1064.46 1538.82,1052.13 1549.25,1039.8 \n",
       "  1559.69,1027.46 1570.12,1015.13 1580.56,1002.8 1590.99,990.472 1601.43,978.141 1611.86,965.81 1622.3,953.479 1632.73,941.149 1643.17,928.818 1653.6,916.487 \n",
       "  1664.04,904.156 1674.48,891.825 1684.91,879.494 1695.35,867.164 1705.78,854.833 1716.22,842.502 1726.65,830.171 1737.09,817.84 1747.52,805.509 1757.96,793.178 \n",
       "  1768.39,780.848 1778.83,768.517 1789.26,756.186 1799.7,743.855 1810.13,731.524 1820.57,719.193 1831,706.862 1841.44,694.532 1851.87,682.201 1862.31,669.87 \n",
       "  1872.74,657.539 1883.18,645.208 1893.61,632.877 1904.05,620.547 1914.48,608.216 1924.92,595.885 1935.35,582.664 1945.79,568.115 1956.22,553.566 1966.66,539.018 \n",
       "  1977.09,524.469 1987.53,509.92 1997.96,495.371 2008.4,480.822 2018.83,466.274 2029.27,451.725 2039.7,437.176 2050.14,422.627 2060.57,408.078 2071.01,393.53 \n",
       "  2081.44,378.981 2091.88,364.432 2102.31,349.883 2112.75,335.335 2123.18,320.786 2133.62,306.237 2144.05,291.688 2154.49,277.139 2164.92,262.591 2175.36,248.042 \n",
       "  2185.79,233.493 2196.23,218.944 2206.66,204.396 2217.1,189.847 2227.53,175.298 2237.97,160.749 2248.41,146.2 2258.84,131.652 2269.28,117.103 2279.71,102.554 \n",
       "  2290.15,88.0053 \n",
       "  \"/>\n",
       "<path clip-path=\"url(#clip5300)\" d=\"\n",
       "M1989.93 251.724 L2280.76 251.724 L2280.76 130.764 L1989.93 130.764  Z\n",
       "  \" fill=\"#ffffff\" fill-rule=\"evenodd\" fill-opacity=\"1\"/>\n",
       "<polyline clip-path=\"url(#clip5300)\" style=\"stroke:#000000; stroke-width:3.2; stroke-opacity:1; fill:none\" points=\"\n",
       "  1989.93,251.724 2280.76,251.724 2280.76,130.764 1989.93,130.764 1989.93,251.724 \n",
       "  \"/>\n",
       "<polyline clip-path=\"url(#clip5300)\" style=\"stroke:#009af9; stroke-width:3.2; stroke-opacity:1; fill:none\" points=\"\n",
       "  2013.93,191.244 2157.93,191.244 \n",
       "  \"/>\n",
       "<g clip-path=\"url(#clip5300)\">\n",
       "<text style=\"fill:#000000; fill-opacity:1; font-family:Arial,Helvetica Neue,Helvetica,sans-serif; font-size:48px; text-anchor:start;\" transform=\"rotate(0, 2181.93, 208.744)\" x=\"2181.93\" y=\"208.744\">y1</text>\n",
       "</g>\n",
       "</svg>\n"
      ]
     },
     "execution_count": 23,
     "metadata": {},
     "output_type": "execute_result"
    }
   ],
   "source": [
    "# Prototyping\n",
    "\n",
    "#interior = HPolytope([LinearConstraint([1], -5)], LinearConstraint([-1], ))\n",
    "interior = NeuralVerification.Hyperrectangle(low=[1.0], high=[1.2])\n",
    "output_set = NeuralVerification.complement(interior)\n",
    "problem = NeuralVerification.Problem(nnet, input_set, output_set)\n",
    "#problem = NeuralVerification.Problem(nnet, input_set, -1)\n",
    "\n",
    "println(NeuralVerification.compute_output(nnet, [1.0]))\n",
    "outputs =[NeuralVerification.compute_output(nnet, [x])[1] for x=-1:0.01:1] \n",
    "plot(collect(-1:0.01:1), outputs)\n"
   ]
  },
  {
   "cell_type": "code",
   "execution_count": 31,
   "metadata": {},
   "outputs": [
    {
     "data": {
      "text/plain": [
       "Main.NeuralVerification.CounterExampleResult(:violated, [0.6482766848510896])"
      ]
     },
     "execution_count": 31,
     "metadata": {},
     "output_type": "execute_result"
    }
   ],
   "source": [
    "# Instantiate a solver\n",
    "solver_original = NeuralVerification.Reluplex()\n",
    "\n",
    "# Define input and output sets\n",
    "input_set = NeuralVerification.Hyperrectangle(low = [-1.0], high = [1.0])\n",
    "#interior = NeuralVerification.Hyperrectangle(low=[0.4], high=[12.0])\n",
    "interior = LinearConstraint([1.0], 7.45)\n",
    "\n",
    "#output_set = NeuralVerification.complement(interior)\n",
    "\n",
    "# Create the problem and solve it\n",
    "problem = NeuralVerification.Problem(nnet, input_set, interior)\n",
    "NeuralVerification.solve(solver_original, problem)"
   ]
  },
  {
   "cell_type": "code",
   "execution_count": 21,
   "metadata": {},
   "outputs": [
    {
     "name": "stdout",
     "output_type": "stream",
     "text": [
      "here\n",
      "pushed\n",
      "here\n",
      "pushed\n"
     ]
    },
    {
     "data": {
      "text/plain": [
       "2.315483466674587"
      ]
     },
     "execution_count": 21,
     "metadata": {},
     "output_type": "execute_result"
    }
   ],
   "source": [
    "### Define the problem\n",
    "\n",
    "# Initialize the solvers\n",
    "solver_original = NeuralVerification.Reluplex()\n",
    "#solver = NeuralVerification.Reluplex_Optimization()\n",
    "\n",
    "# Create your Neural Network\n",
    "nnet = create_random_network([1, 2, 1])\n",
    "#nnet = NeuralVerification.read_nnet(\"/Users/cstrong/Desktop/Stanford/Research/Reluplex/NNs/small_nnet.nnet\")\n",
    "\n",
    "# Restrict your input set\n",
    "input_set = NeuralVerification.Hyperrectangle(low = [-1.0], high = [1.0])\n",
    "\n",
    "# Find a start guess for the upper bound that you know is in the output set\n",
    "center_output = NeuralVerification.compute_output(nnet, LazySets.center(input_set))[1]\n",
    "problem = NeuralVerification.Problem(nnet, input_set, -2)\n",
    "center_output"
   ]
  },
  {
   "cell_type": "code",
   "execution_count": 29,
   "metadata": {},
   "outputs": [
    {
     "name": "stdout",
     "output_type": "stream",
     "text": [
      "Bounds (searching for upper): (2.315483466674587, -1)\n",
      "Bounds (searching for upper): (4.630966933349174, -1)\n",
      "Bounds: (4.630966933349174, 9.261933866698348)\n",
      "Strip start, end: (6.94645040002376, 6.94646040002376)\n",
      "Bounds: (6.94645040002376, 9.261933866698348)\n",
      "Strip start, end: (8.104192133361053, 8.104202133361053)\n",
      "Bounds: (6.94645040002376, 8.104192133361053)\n",
      "Strip start, end: (7.525321266692407, 7.525331266692406)\n",
      "Bounds: (6.94645040002376, 7.525321266692407)\n",
      "Strip start, end: (7.2358858333580836, 7.235895833358083)\n",
      "Bounds: (7.2358858333580836, 7.525321266692407)\n",
      "Strip start, end: (7.380603550025246, 7.380613550025245)\n",
      "Bounds: (7.380603550025246, 7.525321266692407)\n",
      "Strip start, end: (7.452962408358826, 7.452972408358826)\n",
      "Bounds: (7.452962408358826, 7.525321266692407)\n",
      "Strip start, end: (7.489141837525617, 7.4891518375256165)\n",
      "Bounds: (7.489141837525617, 7.525321266692407)\n",
      "Strip start, end: (7.507231552109012, 7.5072415521090115)\n",
      "Bounds: (7.507231552109012, 7.525321266692407)\n",
      "Strip start, end: (7.516276409400709, 7.516286409400709)\n",
      "Bounds: (7.507231552109012, 7.516276409400709)\n",
      "Strip start, end: (7.511753980754861, 7.511763980754861)\n",
      "Bounds: (7.507231552109012, 7.511753980754861)\n",
      "Strip start, end: (7.509492766431936, 7.509502766431936)\n",
      "Bounds: (7.509492766431936, 7.511753980754861)\n",
      "Strip start, end: (7.510623373593399, 7.510633373593398)\n",
      "Bounds: (7.510623373593399, 7.511753980754861)\n",
      "Strip start, end: (7.51118867717413, 7.5111986771741295)\n",
      "Bounds: (7.510623373593399, 7.51118867717413)\n",
      "Strip start, end: (7.510906025383765, 7.510916025383764)\n",
      "Bounds: (7.510906025383765, 7.51118867717413)\n",
      "Strip start, end: (7.511047351278947, 7.5110573512789465)\n",
      "Bounds: (7.511047351278947, 7.51118867717413)\n",
      "Strip start, end: (7.511118014226538, 7.5111280142265375)\n",
      "Bounds: (7.511047351278947, 7.511118014226538)\n",
      "Strip start, end: (7.511082682752742, 7.511092682752742)\n",
      "Bounds: (7.511047351278947, 7.511082682752742)\n",
      "Strip start, end: (7.511065017015845, 7.511075017015845)\n",
      "Bounds: (7.511065017015845, 7.511082682752742)\n",
      "Strip start, end: (7.511073849884294, 7.511083849884294)\n",
      "Bounds: (7.511065017015845, 7.511073849884294)\n"
     ]
    },
    {
     "data": {
      "text/plain": [
       "(7.511065017015845, 7.511073849884294)"
      ]
     },
     "execution_count": 29,
     "metadata": {},
     "output_type": "execute_result"
    }
   ],
   "source": [
    "# Original Binary Search\n",
    "result_original = RangeSearch(solver_original, problem, center_output, 1e-5)"
   ]
  },
  {
   "cell_type": "code",
   "execution_count": 19,
   "metadata": {},
   "outputs": [
    {
     "ename": "UndefVarError",
     "evalue": "UndefVarError: reluplex_optimize not defined",
     "output_type": "error",
     "traceback": [
      "UndefVarError: reluplex_optimize not defined",
      "",
      "Stacktrace:",
      " [1] getproperty(::Module, ::Symbol) at ./Base.jl:13",
      " [2] top-level scope at In[19]:1"
     ]
    }
   ],
   "source": [
    "# Warm Start Search\n",
    "result_warmstart = NeuralVerification.reluplex_optimize(solver, problem, center_output, 1e-5)\n"
   ]
  },
  {
   "cell_type": "code",
   "execution_count": 20,
   "metadata": {},
   "outputs": [
    {
     "ename": "UndefVarError",
     "evalue": "UndefVarError: result_original not defined",
     "output_type": "error",
     "traceback": [
      "UndefVarError: result_original not defined",
      "",
      "Stacktrace:",
      " [1] top-level scope at In[20]:1"
     ]
    }
   ],
   "source": [
    "result_original .- result_warmstart"
   ]
  },
  {
   "cell_type": "code",
   "execution_count": null,
   "metadata": {},
   "outputs": [],
   "source": []
  }
 ],
 "metadata": {
  "kernelspec": {
   "display_name": "Julia 1.2.0",
   "language": "julia",
   "name": "julia-1.2"
  },
  "language_info": {
   "file_extension": ".jl",
   "mimetype": "application/julia",
   "name": "julia",
   "version": "1.2.0"
  }
 },
 "nbformat": 4,
 "nbformat_minor": 2
}
